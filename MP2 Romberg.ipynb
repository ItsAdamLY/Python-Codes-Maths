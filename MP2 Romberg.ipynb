{
 "cells": [
  {
   "cell_type": "code",
   "execution_count": 1,
   "id": "69a96fd8",
   "metadata": {},
   "outputs": [],
   "source": [
    "import numpy as np\n",
    "import math"
   ]
  },
  {
   "cell_type": "code",
   "execution_count": 2,
   "id": "805f8c19",
   "metadata": {},
   "outputs": [],
   "source": [
    "def Romberg(f, a, b, n, tol):\n",
    "    h = b-a\n",
    "    array = np.zeros((n,n))\n",
    "    \n",
    "    array[0,0] = h*(f(a)+f(b))/2\n",
    "    \n",
    "    for i in range(1,n):\n",
    "        k = np.arange(1,2**(i-1)+1)\n",
    "        \n",
    "        array[i,0] = (1/2)*(array[i-1,0] + h*sum(f(a+(k-0.5)*h)))\n",
    "        \n",
    "        for j in range(1,i+1):\n",
    "            array[i,j] = array[i,j-1] - (array[i,j-1] - array[i-1,j-1])/(4**j-1)\n",
    "            \n",
    "        if (abs(array[i-1,i-1] - array[i,i]) < tol):\n",
    "            break\n",
    "            \n",
    "        h = h/2\n",
    "            \n",
    "    return array[0:i+1,0:i+1]"
   ]
  },
  {
   "cell_type": "code",
   "execution_count": 10,
   "id": "f3ee09f0",
   "metadata": {},
   "outputs": [
    {
     "name": "stdout",
     "output_type": "stream",
     "text": [
      "[[0.77174333 0.         0.         0.         0.        ]\n",
      " [0.82526296 0.80742308 0.         0.         0.        ]\n",
      " [0.83836778 0.8339995  0.83222774 0.         0.        ]\n",
      " [0.84161922 0.84053541 0.84009968 0.83997473 0.        ]\n",
      " [0.84243051 0.84216008 0.84205177 0.84202078 0.84201276]]\n"
     ]
    },
    {
     "ename": "IndexError",
     "evalue": "index 9 is out of bounds for axis 0 with size 5",
     "output_type": "error",
     "traceback": [
      "\u001b[1;31m---------------------------------------------------------------------------\u001b[0m",
      "\u001b[1;31mIndexError\u001b[0m                                Traceback (most recent call last)",
      "\u001b[1;32m~\\AppData\\Local\\Temp\\ipykernel_235900\\1824193969.py\u001b[0m in \u001b[0;36m<module>\u001b[1;34m\u001b[0m\n\u001b[0;32m      3\u001b[0m \u001b[0mprint\u001b[0m\u001b[1;33m(\u001b[0m\u001b[0mr\u001b[0m\u001b[1;33m)\u001b[0m\u001b[1;33m\u001b[0m\u001b[1;33m\u001b[0m\u001b[0m\n\u001b[0;32m      4\u001b[0m \u001b[1;33m\u001b[0m\u001b[0m\n\u001b[1;32m----> 5\u001b[1;33m \u001b[0mprint\u001b[0m\u001b[1;33m(\u001b[0m\u001b[1;34m\"\\nerf(1) to 10^-7 = \"\u001b[0m \u001b[1;33m+\u001b[0m \u001b[0mstr\u001b[0m\u001b[1;33m(\u001b[0m\u001b[0mr\u001b[0m\u001b[1;33m[\u001b[0m\u001b[1;36m9\u001b[0m\u001b[1;33m,\u001b[0m\u001b[1;36m9\u001b[0m\u001b[1;33m]\u001b[0m\u001b[1;33m)\u001b[0m\u001b[1;33m)\u001b[0m\u001b[1;33m\u001b[0m\u001b[1;33m\u001b[0m\u001b[0m\n\u001b[0m",
      "\u001b[1;31mIndexError\u001b[0m: index 9 is out of bounds for axis 0 with size 5"
     ]
    }
   ],
   "source": [
    "f = lambda x : 2*np.exp(-x**2)/np.pi**(1/2)\n",
    "r = Romberg(f,0,1,5,0.0000001)\n",
    "print(r)\n",
    "\n",
    "print(\"\\nerf(1) to 10^-7 = \" + str(r[9,9]))"
   ]
  },
  {
   "cell_type": "code",
   "execution_count": null,
   "id": "924f091f",
   "metadata": {},
   "outputs": [],
   "source": []
  }
 ],
 "metadata": {
  "kernelspec": {
   "display_name": "Python 3 (ipykernel)",
   "language": "python",
   "name": "python3"
  },
  "language_info": {
   "codemirror_mode": {
    "name": "ipython",
    "version": 3
   },
   "file_extension": ".py",
   "mimetype": "text/x-python",
   "name": "python",
   "nbconvert_exporter": "python",
   "pygments_lexer": "ipython3",
   "version": "3.9.13"
  }
 },
 "nbformat": 4,
 "nbformat_minor": 5
}
