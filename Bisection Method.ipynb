{
 "cells": [
  {
   "cell_type": "code",
   "execution_count": 1,
   "id": "e8dda7e2",
   "metadata": {},
   "outputs": [],
   "source": [
    "#declaring function\n",
    "def function(x):\n",
    "    function = 2*(x**2)-64\n",
    "    return function"
   ]
  },
  {
   "cell_type": "code",
   "execution_count": 2,
   "id": "ec478d80",
   "metadata": {},
   "outputs": [
    {
     "name": "stdout",
     "output_type": "stream",
     "text": [
      "------------------------------------------------------------------------------------------------\n",
      "Error! Procedure was unsuccessful.\n"
     ]
    }
   ],
   "source": [
    "#defining the method\n",
    "def bisection_method(function, a, b, TOL, max_iter):\n",
    "    i = 1\n",
    "    FA = function(a)\n",
    "    FB = function(b)\n",
    "    s = \" \"\n",
    "    print(\"-\"*96) # Prints - 66 times\n",
    "    print(\" n\", s*8, \"a\",s*12, \"b\",s*14, \"c\", s*10, \"f(c)\", s*5, \"f(c)*f(a)\", s*3, \"f(c)*f(b)\")\n",
    "    print(\"-\"*96)\n",
    "    \n",
    "    while (i <= max_iter):\n",
    "        \n",
    "        #bisection method formula\n",
    "        c = a + (b-a)/2\n",
    "        \n",
    "        FC = function(c)\n",
    "        \n",
    "        print(s, \"{:0>2}\".format(str(i)),\\\n",
    "              s, \"{:13.11}\".format(str(a)),\\\n",
    "              s, \"{:13.11}\".format(str(b)),\\\n",
    "              s, \"{:13.11}\".format(str(c)),\\\n",
    "              s, \"%+f\" %FC,\n",
    "              s, \"{:13.11}\".format(str(FA*FC)),\\\n",
    "              s, \"{:13.11}\".format(str(FB*FC)))\n",
    "        \n",
    "        if (FC == 0 or ((b-a)/2) <= TOL):\n",
    "            print(\"-\"*96)\n",
    "            print(\"\\nDone! Procedure completed successfully.\")\n",
    "            return\n",
    "        \n",
    "        i += 1\n",
    "        \n",
    "        if (FA*FC>0):\n",
    "            a = c\n",
    "            FA = FC\n",
    "        else:\n",
    "            b = c\n",
    "            \n",
    "    else:\n",
    "        print(\"-\"*96)\n",
    "        print(\"Error! Procedure was unsuccessful.\")\n",
    "        \n",
    "        \n",
    "print(\"-\"*96)\n",
    "print(\"Error! Procedure was unsuccessful.\")"
   ]
  },
  {
   "cell_type": "code",
   "execution_count": 3,
   "id": "1439cc11",
   "metadata": {},
   "outputs": [
    {
     "name": "stdout",
     "output_type": "stream",
     "text": [
      "------------------------------------------------------------------------------------------------\n",
      " n          a              b                c            f(c)       f(c)*f(a)     f(c)*f(b)\n",
      "------------------------------------------------------------------------------------------------\n",
      "  01   5               6               5.5             -3.500000   49.0            -28.0        \n",
      "  02   5.5             6               5.75            +2.125000   -7.4375         17.0         \n",
      "  03   5.5             5.75            5.625           -0.718750   2.515625        -5.75        \n",
      "  04   5.625           5.75            5.6875          +0.695312   -0.49975585     5.5625       \n",
      "  05   5.625           5.6875          5.65625         -0.013672   0.009826660     -0.109375    \n",
      "  06   5.65625         5.6875          5.671875        +0.340332   -0.00465297     2.72265625   \n",
      "  07   5.65625         5.671875        5.6640625       +0.163208   -0.00223135     1.305664062  \n",
      "  08   5.65625         5.6640625       5.66015625      +0.074738   -0.00102180     0.597900390  \n",
      "  09   5.65625         5.66015625      5.658203125     +0.030525   -0.00041733     0.244201660  \n",
      "  10   5.65625         5.658203125     5.657226562     +0.008425   -0.00011518     0.067398071  \n",
      "  11   5.65625         5.657226562     5.656738281     -0.002624   3.587547689     -0.02099227  \n",
      "  12   5.656738281     5.657226562     5.656982421     +0.002900   -7.61033828     0.023201942  \n",
      "  13   5.656738281     5.656982421     5.656860351     +0.000138   -3.62311411     0.001104593  \n",
      "  14   5.656738281     5.656860351     5.656799316     -0.001243   3.261643374     -0.00994390  \n",
      "------------------------------------------------------------------------------------------------\n",
      "\n",
      "Done! Procedure completed successfully.\n"
     ]
    }
   ],
   "source": [
    "bisection_method(function, 5, 6, 0.0001, 100)"
   ]
  }
 ],
 "metadata": {
  "kernelspec": {
   "display_name": "Python 3 (ipykernel)",
   "language": "python",
   "name": "python3"
  },
  "language_info": {
   "codemirror_mode": {
    "name": "ipython",
    "version": 3
   },
   "file_extension": ".py",
   "mimetype": "text/x-python",
   "name": "python",
   "nbconvert_exporter": "python",
   "pygments_lexer": "ipython3",
   "version": "3.9.13"
  }
 },
 "nbformat": 4,
 "nbformat_minor": 5
}
