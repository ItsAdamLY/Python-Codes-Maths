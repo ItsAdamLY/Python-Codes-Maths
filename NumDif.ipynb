{
 "cells": [
  {
   "cell_type": "markdown",
   "id": "897db791",
   "metadata": {},
   "source": [
    "# Question 9"
   ]
  },
  {
   "cell_type": "markdown",
   "id": "70b9e405",
   "metadata": {},
   "source": [
    "##  9.1"
   ]
  },
  {
   "cell_type": "code",
   "execution_count": 1,
   "id": "fc861dbb",
   "metadata": {},
   "outputs": [],
   "source": [
    "import numpy as np"
   ]
  },
  {
   "cell_type": "code",
   "execution_count": 2,
   "id": "baaf115f",
   "metadata": {
    "scrolled": true
   },
   "outputs": [],
   "source": [
    "def numdif_formula(x,y,h,i):\n",
    "\n",
    "    if (i >= 0) and (i <= 1):\n",
    "        return (-25*y[i]+48*y[i+1]-36*y[i+2]+16*y[i+3]-3*y[i+4])/(12*h) #5pep left side\n",
    "\n",
    "    elif (i >= 4) and (i <= 5): \n",
    "        h = -h\n",
    "        return (-25*y[i]+48*y[i-1]-36*y[i-2]+16*y[i-3]-3*y[i-4])/(12*h) #5pep right side\n",
    "\n",
    "    return (y[i-2]-8*y[i-1]+8*y[i+1]-y[i+2])/(12*h) #5p midpoint"
   ]
  },
  {
   "cell_type": "code",
   "execution_count": 3,
   "id": "58c08faa",
   "metadata": {},
   "outputs": [],
   "source": [
    "def calculate_deriv(x,y,yprime,h):\n",
    "    print(\"─\"*53)\n",
    "    print(\"x         f(x)           f'(x)\")\n",
    "    print(\"─\"*53)\n",
    "    \n",
    "    for i in range(0, 6):\n",
    "        yprime = numdif_formula(x,y,h,i)\n",
    "        print(x[i], \" \"*3, y[i], \" \"*3, yprime)"
   ]
  },
  {
   "cell_type": "code",
   "execution_count": 4,
   "id": "e3530e64",
   "metadata": {},
   "outputs": [],
   "source": [
    "x = [2.1, 2.2, 2.3, 2.4, 2.5, 2.6]\n",
    "y = [-1.709847, -1.373823, -1.119214, -0.9160143, -0.7470223, -0.6015966]\n",
    "\n",
    "h = x[1] - x[0]"
   ]
  },
  {
   "cell_type": "code",
   "execution_count": 5,
   "id": "1cd131ed",
   "metadata": {},
   "outputs": [],
   "source": [
    "yprimes = []\n",
    "\n",
    "for i in range(0,6):\n",
    "    formula = numdif_formula(x,y,h,i)\n",
    "    yprimes.append(formula)"
   ]
  },
  {
   "cell_type": "code",
   "execution_count": 62,
   "id": "2900e5f0",
   "metadata": {},
   "outputs": [
    {
     "name": "stdout",
     "output_type": "stream",
     "text": [
      "─────────────────────────────────────────────────────\n",
      "x         f(x)           f'(x)\n",
      "─────────────────────────────────────────────────────\n",
      "2.1     -1.709847     3.899344249999985\n",
      "2.2     -1.373823     2.876875666666667\n",
      "2.3     -1.119214     2.249704083333332\n",
      "2.4     -0.9160143     1.837755999999998\n",
      "2.5     -0.7470223     1.5442099166666656\n",
      "2.6     -0.6015966     1.3554963333333314\n",
      "[3.899344249999985, 2.876875666666667, 2.249704083333332, 1.837755999999998, 1.5442099166666656, 1.3554963333333314]\n"
     ]
    }
   ],
   "source": [
    "calculate_deriv(x,y,yprimes, h)"
   ]
  },
  {
   "cell_type": "markdown",
   "id": "bcaa1fba",
   "metadata": {},
   "source": [
    "##  9.2"
   ]
  },
  {
   "cell_type": "code",
   "execution_count": 68,
   "id": "7d6afec9",
   "metadata": {},
   "outputs": [
    {
     "name": "stdout",
     "output_type": "stream",
     "text": [
      "─────────────────────────────────────────────────────\n",
      "x         f(x)           f'(x)\n",
      "─────────────────────────────────────────────────────\n",
      "-3.0     9.367879     -5.877357499999997\n",
      "-2.8     8.233241     -5.468933333333328\n",
      "-2.6     7.18035     -5.059884166666659\n",
      "-2.4     6.209329     -4.650223333333328\n",
      "-2.2     5.320305     -4.239910833333333\n",
      "-2.0     4.513417     -3.8288533333333357\n"
     ]
    }
   ],
   "source": [
    "x1 = [-3.0, -2.8, -2.6, -2.4, -2.2, -2.0]\n",
    "y1 = [9.367879, 8.233241, 7.180350, 6.209329, 5.320305, 4.513417]\n",
    "\n",
    "h1 = x1[1] - x1[0]\n",
    "\n",
    "yprimes1 = []\n",
    "\n",
    "for i in range(0,6):\n",
    "    formula = numdif_formula(x1,y1,h1,i)\n",
    "    yprimes1.append(formula)\n",
    "\n",
    "calculate_deriv(x1,y1,yprimes1, h1)"
   ]
  },
  {
   "cell_type": "markdown",
   "id": "93ffb459",
   "metadata": {},
   "source": [
    "# Question 11"
   ]
  },
  {
   "cell_type": "markdown",
   "id": "4a1b0fea",
   "metadata": {},
   "source": [
    "##  11.1 (Actual Function: y = tan(x))"
   ]
  },
  {
   "cell_type": "code",
   "execution_count": 43,
   "id": "d72872e3",
   "metadata": {},
   "outputs": [],
   "source": [
    "def functional_change(x,actual_yprime, yprimes_est, yp5, h):\n",
    "    print(\"─\"*60)\n",
    "    print(\"x\", \" \"*10, \"Actual Error\", \" \"*12, \"Error Bound\")\n",
    "    print(\"─\"*60)\n",
    "    \n",
    "    for i in range(0, 6):  \n",
    "        error = actual_yprime[i] - yprimes_est[i]\n",
    "        \n",
    "        if (i >= 0) and (i <= 1):\n",
    "            error_bound = abs(yp5[i])*h**4/5 #error bound for 5pep left\n",
    "            \n",
    "        elif (i >= 5) and (i <= 6):\n",
    "            h = -h\n",
    "            error_bound = abs(yp5[i])*h**4/5 #error bound for 5pep right\n",
    "            \n",
    "        else:\n",
    "            error_bound = abs(yp5[i])*h**4/30 #error bound for 5p midpoint\n",
    "            \n",
    "        print(x[i], \" \"*4, error, \" \"*4, error_bound)"
   ]
  },
  {
   "cell_type": "code",
   "execution_count": 44,
   "id": "b07bc96d",
   "metadata": {},
   "outputs": [
    {
     "name": "stdout",
     "output_type": "stream",
     "text": [
      "────────────────────────────────────────────────────────────\n",
      "x            Actual Error              Error Bound\n",
      "────────────────────────────────────────────────────────────\n",
      "2.1      0.024230950282509767      0.10927188778396377\n",
      "2.2      0.010514124642887701      0.03868845930985749\n",
      "2.3      0.0029350925104472125      0.002662689260203184\n",
      "2.4      0.0013261788858853762      0.001233269688099126\n",
      "2.5      0.013832395905059691      0.0006249537486615874\n",
      "2.6      0.006422151547737398      0.0020469203630631527\n"
     ]
    }
   ],
   "source": [
    "actual_yprime = (1/(np.cos(x)))**2\n",
    "yp5 = (16*np.tan(x)**4)/np.cos(x)**2 + (88*np.tan(x)**2)/np.cos(x)**4 + 16/np.cos(x)**6\n",
    "\n",
    "functional_change(x,actual_yprime, yprimes, yp5, h)"
   ]
  },
  {
   "cell_type": "markdown",
   "id": "734dbbb8",
   "metadata": {},
   "source": [
    "##  11.2 (Actual function: y = e^(x/3) + x²)"
   ]
  },
  {
   "cell_type": "code",
   "execution_count": 72,
   "id": "091082c5",
   "metadata": {},
   "outputs": [
    {
     "name": "stdout",
     "output_type": "stream",
     "text": [
      "────────────────────────────────────────────────────────────\n",
      "x            Actual Error              Error Bound\n",
      "────────────────────────────────────────────────────────────\n",
      "-3.0      -1.6019609522466283e-05      4.844502929006665e-07\n",
      "-2.8      1.3573622861251522e-05      5.178478628722301e-07\n",
      "-2.6      9.61502886198673e-07      9.225797190862735e-08\n",
      "-2.4      -3.4529426518048467e-07      9.861815399006272e-08\n",
      "-2.2      1.2600363265669046e-05      1.0541680133658185e-07\n",
      "-2.0      -7.626989133591167e-06      6.761048481087656e-07\n"
     ]
    }
   ],
   "source": [
    "actual_yprime1 = np.exp(np.array(x1)/3)/3 + 2*np.array(x1)\n",
    "yp5_1 = np.exp(np.array(x1)/3)/243\n",
    "\n",
    "functional_change(x1,actual_yprime1, yprimes1, yp5_1, h1)"
   ]
  }
 ],
 "metadata": {
  "kernelspec": {
   "display_name": "Python 3 (ipykernel)",
   "language": "python",
   "name": "python3"
  },
  "language_info": {
   "codemirror_mode": {
    "name": "ipython",
    "version": 3
   },
   "file_extension": ".py",
   "mimetype": "text/x-python",
   "name": "python",
   "nbconvert_exporter": "python",
   "pygments_lexer": "ipython3",
   "version": "3.9.13"
  }
 },
 "nbformat": 4,
 "nbformat_minor": 5
}
