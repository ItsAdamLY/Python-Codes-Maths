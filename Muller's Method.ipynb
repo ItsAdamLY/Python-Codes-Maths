{
 "cells": [
  {
   "cell_type": "code",
   "execution_count": 1,
   "id": "6cb5d2cc",
   "metadata": {},
   "outputs": [],
   "source": [
    "#defining function\n",
    "function = lambda x: 2*(x**3) - 2*x - 5\n",
    "\n",
    "#init values\n",
    "x0 = 0\n",
    "x1 = 1\n",
    "x2 = 2\n",
    "TOL = 0.000001\n",
    "max_iter = 100"
   ]
  },
  {
   "cell_type": "code",
   "execution_count": 4,
   "id": "c05567e9",
   "metadata": {},
   "outputs": [],
   "source": [
    "def Muller(function, x0, x1, x2, TOL, max_iter):\n",
    "    h1 = x1 - x0\n",
    "    h2 = x2 - x1\n",
    "    d1 = (function(x1)-function(x0))/h1\n",
    "    d2 = (function(x2)-function(x1))/h2\n",
    "    a = (d2-d1)/(h2+h1)\n",
    "    i = 3\n",
    "    s = \" \"\n",
    "    print(s, \"=\"*50)\n",
    "    print(s*3, \"i\", s*11, \"x\", s*18, \"f(x)\")\n",
    "    print(s, \"=\"*50)\n",
    "    \n",
    "    while (i <= max_iter):\n",
    "        b = d2 + (h2*a)\n",
    "        D = (b**2 - 4*a*function(x2))**(1/2)\n",
    "        \n",
    "        if (abs(b-D)<abs(b+D)):\n",
    "            E = b + D\n",
    "            \n",
    "        else:\n",
    "            E = b - D\n",
    "        \n",
    "        h = (-2 * function(x2))/E\n",
    "        x = x2 + h\n",
    "        \n",
    "        print(s*3, \"{:0>2}\".format(i), s,\n",
    "              \"{:+.6f}\".format(complex(x)), s, \\\n",
    "              \"{:+.6f}\".format(complex(function(x))))\n",
    "        \n",
    "        if (abs(h) < TOL):\n",
    "            print(s, \"=\"*50)\n",
    "            print(\"\\nDone! The procedure was successful.\")\n",
    "            return\n",
    "        \n",
    "        x0 = x1\n",
    "        x1 = x2\n",
    "        x2 = x\n",
    "        h1 = x1 - x0\n",
    "        h2 = x2 - x1\n",
    "        d1 = (function(x1)-function(x0))/h1\n",
    "        d2 = (function(x2)-function(x1))/h2\n",
    "        a = (d2-d1)/(h2+h1)\n",
    "        i += 1\n",
    "        \n",
    "    else:\n",
    "        print(s, \"=\"*50)\n",
    "        print(\"\\nError! The procedure was unsuccessful.\")"
   ]
  },
  {
   "cell_type": "code",
   "execution_count": 5,
   "id": "77479c82",
   "metadata": {},
   "outputs": [
    {
     "name": "stdout",
     "output_type": "stream",
     "text": [
      "Muller's Method\n",
      "  ==================================================\n",
      "    i             x                    f(x)\n",
      "  ==================================================\n",
      "    03   +1.540833+0.000000j   -0.765278+0.000000j\n",
      "    04   +1.598522+0.000000j   -0.027725+0.000000j\n",
      "    05   +1.600591+0.000000j   -0.000099+0.000000j\n",
      "    06   +1.600599+0.000000j   +0.000000+0.000000j\n",
      "    07   +1.600599+0.000000j   +0.000000+0.000000j\n",
      "  ==================================================\n",
      "\n",
      "Done! The procedure was successful.\n"
     ]
    }
   ],
   "source": [
    "print(\"Muller's Method\")\n",
    "\n",
    "from sympy import Symbol\n",
    "x = Symbol('x')\n",
    "\n",
    "Muller(function, x0, x1, x2, TOL, max_iter)"
   ]
  }
 ],
 "metadata": {
  "kernelspec": {
   "display_name": "Python 3 (ipykernel)",
   "language": "python",
   "name": "python3"
  },
  "language_info": {
   "codemirror_mode": {
    "name": "ipython",
    "version": 3
   },
   "file_extension": ".py",
   "mimetype": "text/x-python",
   "name": "python",
   "nbconvert_exporter": "python",
   "pygments_lexer": "ipython3",
   "version": "3.9.13"
  }
 },
 "nbformat": 4,
 "nbformat_minor": 5
}
