{
 "cells": [
  {
   "cell_type": "code",
   "execution_count": 46,
   "id": "9fbcf94c",
   "metadata": {},
   "outputs": [],
   "source": [
    "#Declaring Function\n",
    "from sympy import exp, sin, cos\n",
    "q1 = lambda x: (exp(-x) * (32/10 * sin (x) - 1/2 * cos (x))) #another way to declare a function"
   ]
  },
  {
   "cell_type": "code",
   "execution_count": 51,
   "id": "24976176",
   "metadata": {},
   "outputs": [],
   "source": [
    "x0 = 3\n",
    "TOL = 0.00001 # epsilon\n",
    "max_iter = 10"
   ]
  },
  {
   "cell_type": "code",
   "execution_count": 52,
   "id": "d2010a97",
   "metadata": {},
   "outputs": [],
   "source": [
    "from sympy import Symbol, Derivative\n",
    "\n",
    "def dif(function, n):\n",
    "    x = Symbol('x')\n",
    "    deriv = Derivative(function(x), x)\n",
    "    return float(deriv.doit().subs({x:n}))"
   ]
  },
  {
   "cell_type": "code",
   "execution_count": 53,
   "id": "647db3ee",
   "metadata": {},
   "outputs": [
    {
     "name": "stdout",
     "output_type": "stream",
     "text": [
      "--------------------------------------------------------------\n",
      "\n",
      "Error! The procedure was unsuccessful.\n"
     ]
    }
   ],
   "source": [
    "def newton_method(fn, x0, TOL, N0):\n",
    "    i = 1\n",
    "    s = \" \"\n",
    "    print(\"-\"*66) # Prints - 66 times\n",
    "    print(\" n\", s*8, \"x0\",s*8, \"f(x0)\",s*6, \"f'(x0)\", s*8, \"x1\")\n",
    "    print(\"-\"*66)\n",
    "    \n",
    "    while (i <= N0):\n",
    "        x = float(x0) - float(fn(x0))/float(dif(fn, x0))\n",
    "        print(s, \"{:0>2}\".format(i), s,\\\n",
    "              \"{:13.11}\".format(str(float(x0))),\\\n",
    "              \"{:13.11}\".format(str(float(fn(x0)))),\\\n",
    "              \"{:13.11}\".format(str(float(dif(fn, x0)))),\\\n",
    "              \"{:13.11}\".format(str(x)),\\\n",
    "              \"{:13.11}\".format(str(float(fn(x)))))\n",
    "        \n",
    "        if (abs(x-x0) <= TOL):\n",
    "            print (\"-\"*62)\n",
    "            print (\"\\nDone! The procedure was successful.\")\n",
    "            return\n",
    "        \n",
    "        i += 1\n",
    "        x0 = x\n",
    "        \n",
    "print(\"-\"*62)\n",
    "print(\"\\nError! The procedure was unsuccessful.\")"
   ]
  },
  {
   "cell_type": "code",
   "execution_count": 54,
   "id": "c5366503",
   "metadata": {
    "scrolled": true
   },
   "outputs": [
    {
     "name": "stdout",
     "output_type": "stream",
     "text": [
      "\n",
      " g(x) = x^3 - x\n",
      "      x0= 3\n",
      "------------------------------------------------------------------\n",
      " n          x0          f(x0)        f'(x0)          x1\n",
      "------------------------------------------------------------------\n",
      "  01   3.0           0.047127456   -0.20133871   3.234070511   0.007972178  \n",
      "  02   3.234070511   0.007972178   -0.13532233   3.292983026   0.000433843  \n",
      "  03   3.292983026   0.000433843   -0.12073244   3.296576451   1.551526673  \n",
      "  04   3.296576451   1.551526673   -0.11986941   3.296589395   2.008179190  \n",
      "  05   3.296589395   2.008179190   -0.11986631   3.296589395   2.054421969  \n",
      "--------------------------------------------------------------\n",
      "\n",
      "Done! The procedure was successful.\n"
     ]
    }
   ],
   "source": [
    "print(\"\\n g(x) = x^3 - x\")\n",
    "print(\" \"*4, \" x0=\", x0)\n",
    "newton_method(q1, x0, TOL, max_iter)"
   ]
  },
  {
   "cell_type": "code",
   "execution_count": null,
   "id": "08a9fbd0",
   "metadata": {},
   "outputs": [],
   "source": []
  }
 ],
 "metadata": {
  "kernelspec": {
   "display_name": "Python 3 (ipykernel)",
   "language": "python",
   "name": "python3"
  },
  "language_info": {
   "codemirror_mode": {
    "name": "ipython",
    "version": 3
   },
   "file_extension": ".py",
   "mimetype": "text/x-python",
   "name": "python",
   "nbconvert_exporter": "python",
   "pygments_lexer": "ipython3",
   "version": "3.9.13"
  }
 },
 "nbformat": 4,
 "nbformat_minor": 5
}
