{
 "cells": [
  {
   "cell_type": "code",
   "execution_count": 1,
   "id": "9fbcf94c",
   "metadata": {},
   "outputs": [],
   "source": [
    "#Declaring Function\n",
    "from sympy import *\n",
    "q1 = lambda x: -6.326*x**3 + 21.956*x**2 + 20.088*x - 13.392"
   ]
  },
  {
   "cell_type": "code",
   "execution_count": 2,
   "id": "24976176",
   "metadata": {},
   "outputs": [],
   "source": [
    "x0 = -1\n",
    "TOL = 0.000001 # epsilon\n",
    "max_iter = 10"
   ]
  },
  {
   "cell_type": "code",
   "execution_count": 3,
   "id": "d2010a97",
   "metadata": {},
   "outputs": [],
   "source": [
    "x = Symbol('x')\n",
    "\n",
    "def dif(function, n):\n",
    "    deriv = Derivative(function(x), x)\n",
    "    return float(deriv.doit().subs({x:n}))\n",
    "\n",
    "def double_dif(function, n):    \n",
    "    deriv = Derivative(Derivative(function(x), x), x)\n",
    "    return float(deriv.doit().subs({x:n}))"
   ]
  },
  {
   "cell_type": "code",
   "execution_count": 4,
   "id": "647db3ee",
   "metadata": {},
   "outputs": [
    {
     "name": "stdout",
     "output_type": "stream",
     "text": [
      "────────────────────────────────────────────────────────────────────────────────────────────────────\n",
      "\n",
      "Error! The procedure was unsuccessful.\n"
     ]
    }
   ],
   "source": [
    "def modified_newton(fn, x0, TOL, N0):\n",
    "    i = 1\n",
    "    s = \" \"\n",
    "    print(\"─\"*100) # Prints - 66 times\n",
    "    print(\" n\", s*8, \"x0\",s*8, \"f(x0)\",s*7, \"f'(x0)\", s*6, \"f''(x0)\", s*7, \"x\", s*10, \"f(x)\")\n",
    "    print(\"─\"*100)\n",
    "    \n",
    "    while (i <= N0):\n",
    "        x = float(x0) - (float(fn(x0))*float(dif(fn, x0)))/((float(dif(fn, x0)))**2-(float(fn(x0))*float(double_dif(fn, x0))))\n",
    "        print(s, \"{:0>2}\".format(i), s,\\\n",
    "              \"{:13.11}\".format(str(float(x0))),\\\n",
    "              \"{:13.11}\".format(str(float(fn(x0)))),\\\n",
    "              \"{:13.11}\".format(str(float(dif(fn, x0)))),\\\n",
    "              \"{:13.11}\".format(str(float(double_dif(fn, x0)))),\\\n",
    "              \"{:13.11}\".format(str(x)),\\\n",
    "              \"{:13.11}\".format(str(float(fn(x)))))\n",
    "        \n",
    "        if abs(fn(x)) <= TOL:\n",
    "            print (\"─\"*100)\n",
    "            print (\"\\nDone! The procedure was successful.\")\n",
    "            return\n",
    "        \n",
    "        i += 1\n",
    "        x0 = x\n",
    "        \n",
    "print(\"─\"*100)\n",
    "print(\"\\nError! The procedure was unsuccessful.\")"
   ]
  },
  {
   "cell_type": "code",
   "execution_count": 5,
   "id": "c5366503",
   "metadata": {
    "scrolled": true
   },
   "outputs": [
    {
     "name": "stdout",
     "output_type": "stream",
     "text": [
      "────────────────────────────────────────────────────────────────────────────────────────────────────\n",
      " n          x0          f(x0)         f'(x0)        f''(x0)         x            f(x)\n",
      "────────────────────────────────────────────────────────────────────────────────────────────────────\n",
      "  01   -1.0          -5.198        -42.8019999   81.868        -1.09855095   -0.57620422  \n",
      "  02   -1.09855095   -0.57620422   -51.0544893   85.60859999   -1.10962740   -0.00544173  \n",
      "  03   -1.10962740   -0.00544173   -52.0050567   86.02901760   -1.10973202   -4.70967737  \n",
      "────────────────────────────────────────────────────────────────────────────────────────────────────\n",
      "\n",
      "Done! The procedure was successful.\n"
     ]
    }
   ],
   "source": [
    "modified_newton(q1, x0, TOL, max_iter)"
   ]
  },
  {
   "cell_type": "code",
   "execution_count": null,
   "id": "5e11a4cd",
   "metadata": {},
   "outputs": [],
   "source": []
  }
 ],
 "metadata": {
  "kernelspec": {
   "display_name": "Python 3 (ipykernel)",
   "language": "python",
   "name": "python3"
  },
  "language_info": {
   "codemirror_mode": {
    "name": "ipython",
    "version": 3
   },
   "file_extension": ".py",
   "mimetype": "text/x-python",
   "name": "python",
   "nbconvert_exporter": "python",
   "pygments_lexer": "ipython3",
   "version": "3.9.13"
  }
 },
 "nbformat": 4,
 "nbformat_minor": 5
}
