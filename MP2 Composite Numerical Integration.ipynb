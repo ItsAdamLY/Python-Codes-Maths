{
 "cells": [
  {
   "cell_type": "code",
   "execution_count": 83,
   "id": "56b6596c",
   "metadata": {},
   "outputs": [],
   "source": [
    "import numpy as np"
   ]
  },
  {
   "cell_type": "code",
   "execution_count": 84,
   "id": "1ec811e5",
   "metadata": {},
   "outputs": [],
   "source": [
    "def Composite_Simpson(fx, a, b, n):\n",
    "    \n",
    "    h = (b-a)/n\n",
    "    \n",
    "    XI0 = fx(a) + fx(b)\n",
    "    \n",
    "    #initial values for summation:\n",
    "    XI1 = 0 \n",
    "    XI2 = 0\n",
    "    \n",
    "    for i in range(1,n):\n",
    "        \n",
    "        X = a + h*i\n",
    "        \n",
    "        if i%2 == 0:\n",
    "            XI2 = XI2 + fx(X)\n",
    "            \n",
    "        else:\n",
    "            XI1 = XI1 + fx(X)\n",
    "            \n",
    "    XI = h*(XI0 + 2*XI2 + 4*XI1)/3\n",
    "    \n",
    "    return XI"
   ]
  },
  {
   "cell_type": "code",
   "execution_count": 141,
   "id": "90ddbb22",
   "metadata": {},
   "outputs": [],
   "source": [
    "def newton_method(fn, fprime, x0, TOL, max_iter):\n",
    "    i = 1\n",
    "    s = \" \"\n",
    "    print(\"-\"*86) \n",
    "    print(\" n\", s*8, \"x0\",s*8, \"f(x0)\",s*6, \"f'(x0)\", s*8, \"x1\", s*10, \"f'(x)\")\n",
    "    print(\"-\"*86)\n",
    "    \n",
    "    while (i <= max_iter):\n",
    "        \n",
    "        x = float(x0) - (float(fn(x0))/float(fprime(x0)))\n",
    "            \n",
    "        print(s, \"{:0>2}\".format(i), s,\\\n",
    "               \"{:13.11}\".format(str(float(x0))),\\\n",
    "               \"{:13.11}\".format(str(float(fn(x0)))),\\\n",
    "              \"{:13.11}\".format(str(float(fprime(x0)))),\\\n",
    "               \"{:13.11}\".format(str(x)),\\\n",
    "               \"{:13.11}\".format(str(float(fn(x)))))\n",
    "        \n",
    "        if (abs(x-x0) <= TOL):\n",
    "            print (\"-\"*86)\n",
    "            print (\"\\nDone! The procedure was successful.\")\n",
    "            return x\n",
    "        \n",
    "        i += 1\n",
    "        x0 = x\n",
    "    \n",
    "    else:\n",
    "        print(\"-\"*62)\n",
    "        print(\"\\nError! The procedure was unsuccessful.\")"
   ]
  },
  {
   "cell_type": "code",
   "execution_count": 142,
   "id": "6e0345f3",
   "metadata": {},
   "outputs": [],
   "source": [
    "fprime = lambda x: np.exp((-x**2)/2)/((2*np.pi)**(1/2))\n",
    "fn = lambda x: (Composite_Simpson(fprime, 0, x, 20)) - 0.45"
   ]
  },
  {
   "cell_type": "code",
   "execution_count": 146,
   "id": "486ffef8",
   "metadata": {},
   "outputs": [
    {
     "name": "stdout",
     "output_type": "stream",
     "text": [
      "--------------------------------------------------------------------------------------\n",
      " n          x0          f(x0)        f'(x0)          x1            f'(x)\n",
      "--------------------------------------------------------------------------------------\n",
      "  01   0.5           -0.25853753   0.352065326   1.234345355   -0.05853709  \n",
      "  02   1.234345355   -0.05853709   0.186235595   1.548662783   -0.01073138  \n",
      "  03   1.548662783   -0.01073138   0.120257892   1.637899173   -0.00072135  \n",
      "  04   1.637899173   -0.00072135   0.104319665   1.644813984   -4.07609986  \n",
      "  05   1.644813984   -4.07609986   0.103142365   1.644853504   -1.37417965  \n",
      "  06   1.644853504   -1.37417965   0.103135661   1.644853505   -2.77555756  \n",
      "--------------------------------------------------------------------------------------\n",
      "\n",
      "Done! The procedure was successful.\n",
      "\n",
      "The solution to the equation is: 1.644853505454345\n"
     ]
    }
   ],
   "source": [
    "end_result = newton_method(fn, fprime, 0.5, .00001, 20)\n",
    "print(\"\\nThe solution to the equation is: \" + str(end_result))"
   ]
  }
 ],
 "metadata": {
  "kernelspec": {
   "display_name": "Python 3 (ipykernel)",
   "language": "python",
   "name": "python3"
  },
  "language_info": {
   "codemirror_mode": {
    "name": "ipython",
    "version": 3
   },
   "file_extension": ".py",
   "mimetype": "text/x-python",
   "name": "python",
   "nbconvert_exporter": "python",
   "pygments_lexer": "ipython3",
   "version": "3.9.13"
  }
 },
 "nbformat": 4,
 "nbformat_minor": 5
}
