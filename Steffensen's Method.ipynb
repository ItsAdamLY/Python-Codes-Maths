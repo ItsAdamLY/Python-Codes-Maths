{
 "cells": [
  {
   "cell_type": "code",
   "execution_count": 15,
   "id": "07a36dc3",
   "metadata": {},
   "outputs": [],
   "source": [
    "#declaring function\n",
    "def function(x):\n",
    "    function = 2*(x**3) - 2*x - 5\n",
    "    return function\n",
    "\n",
    "def altered_function(x):\n",
    "    gx = (5/2 + x)**(1/3)\n",
    "    return gx"
   ]
  },
  {
   "cell_type": "code",
   "execution_count": 16,
   "id": "fad99e10",
   "metadata": {},
   "outputs": [],
   "source": [
    "def fixed_point(function, gx, x0, TOL, max_iter):\n",
    "    \n",
    "    i = 1\n",
    "    \n",
    "    s = \" \"\n",
    "    print(\"-\"*66) # Prints - 66 times\n",
    "    print(\" n\", s*8, \"x0\",s*12, \"x1\",s*7, \"x2\", s*12, \"f(x1)\")\n",
    "    print(\"-\"*66)\n",
    "    \n",
    "    while (i <= max_iter):\n",
    "        \n",
    "        x1 = gx(x0)\n",
    "        x2 = gx(x1)\n",
    "        \n",
    "        x = x0 - ((x1-x0)**2)/(x0-2*x1+x2)\n",
    "        fx = function(x)\n",
    "        \n",
    "        print(s, \"{:0>2}\".format(str(i)),\n",
    "              s, \"{:13.11}\".format(str(x0)),\\\n",
    "             s, \"{:13.11}\".format(str(x1)),\\\n",
    "             s, \"{:13.11}\".format(str(x2)),\\\n",
    "             s, \"{:13.11}\".format(str(x)),\\\n",
    "             s, \"{:13.11}\".format(str(fx)))\n",
    "        \n",
    "        if (abs(fx) < TOL):\n",
    "            print(\"-\"*66)\n",
    "            print(\"\\nDone! Procedure completed successfully.\")\n",
    "            return\n",
    "        \n",
    "        i += 1\n",
    "        x0 = x\n",
    "        \n",
    "    else:  \n",
    "        print(\"-\"*66)\n",
    "        print(\"Error! Procedure was unsuccessful.\")"
   ]
  },
  {
   "cell_type": "code",
   "execution_count": 17,
   "id": "482d2d91",
   "metadata": {},
   "outputs": [
    {
     "name": "stdout",
     "output_type": "stream",
     "text": [
      "------------------------------------------------------------------\n",
      " n          x0              x1         x2              f(x1)\n",
      "------------------------------------------------------------------\n",
      "  01   1.5             1.587401051     1.598879560     1.600614963     0.000219540  \n",
      "  02   1.600614963     1.600600681     1.600598822     1.600598544     5.700329097  \n",
      "------------------------------------------------------------------\n",
      "\n",
      "Done! Procedure completed successfully.\n"
     ]
    }
   ],
   "source": [
    "fixed_point(function, altered_function, 1.5, 0.000001, 100)"
   ]
  },
  {
   "cell_type": "code",
   "execution_count": null,
   "id": "7d5c2f7c",
   "metadata": {},
   "outputs": [],
   "source": []
  }
 ],
 "metadata": {
  "kernelspec": {
   "display_name": "Python 3 (ipykernel)",
   "language": "python",
   "name": "python3"
  },
  "language_info": {
   "codemirror_mode": {
    "name": "ipython",
    "version": 3
   },
   "file_extension": ".py",
   "mimetype": "text/x-python",
   "name": "python",
   "nbconvert_exporter": "python",
   "pygments_lexer": "ipython3",
   "version": "3.9.13"
  }
 },
 "nbformat": 4,
 "nbformat_minor": 5
}
