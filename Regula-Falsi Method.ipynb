{
 "cells": [
  {
   "cell_type": "code",
   "execution_count": 10,
   "id": "ca2b00f9",
   "metadata": {},
   "outputs": [],
   "source": [
    "from math import exp, sin, cos, pi\n",
    "def function(x):\n",
    "    function = exp(-x) * (3.2*sin(x)-0.5*cos(x))\n",
    "    return function"
   ]
  },
  {
   "cell_type": "code",
   "execution_count": 14,
   "id": "8d00da04",
   "metadata": {},
   "outputs": [],
   "source": [
    "x0 = 3\n",
    "x1 = 4\n",
    "TOL = 0.00001\n",
    "max_iter = 100"
   ]
  },
  {
   "cell_type": "code",
   "execution_count": 15,
   "id": "03c8d7a4",
   "metadata": {},
   "outputs": [
    {
     "name": "stdout",
     "output_type": "stream",
     "text": [
      "──────────────────────────────────────────────────────────────────\n",
      "\n",
      "Error! The procedure was unsuccessful.\n"
     ]
    }
   ],
   "source": [
    "def false_position(function, x0, x1, TOL, max_iter):\n",
    "    i = 1\n",
    "    q0 = function(x0)\n",
    "    q1 = function(x1)\n",
    "    s = \" \"\n",
    "    print(\"─\"*66) # Prints - 66 times\n",
    "    print(\" n\", s*8, \"x0\",s*8, \"x1\",s*12, \"x\", s*6, \"tolerance\")\n",
    "    print(\"─\"*66)\n",
    "    \n",
    "    while (i <= max_iter):\n",
    "        \n",
    "        x = x1 - (q1*(x1-x0))/(q1-q0) \n",
    "        \n",
    "        print(s, \"{:0>2}\".format(i), s,\\\n",
    "              \"{:13.11}\".format(str(float(x0))),\\\n",
    "              \"{:13.11}\".format(str(float(x1))),\\\n",
    "              \"{:13.11}\".format(str(float(x))),\\\n",
    "              \"{:13.11}\".format(str(abs(x-x1))))\n",
    "        \n",
    "        if (abs(x-x1) <= TOL):\n",
    "            print (\"─\"*66)\n",
    "            print (\"\\nDone! The procedure was successful.\")\n",
    "            return\n",
    "        \n",
    "        i += 1\n",
    "        q = function(x)\n",
    "        if((q*q1)<0):\n",
    "            x0 = x1\n",
    "            q0 = q1\n",
    "        \n",
    "        x1 = x\n",
    "        q1 = q\n",
    "        \n",
    "print(\"─\"*66)\n",
    "print(\"\\nError! The procedure was unsuccessful.\")"
   ]
  },
  {
   "cell_type": "code",
   "execution_count": 16,
   "id": "d65a90a5",
   "metadata": {},
   "outputs": [
    {
     "name": "stdout",
     "output_type": "stream",
     "text": [
      "──────────────────────────────────────────────────────────────────\n",
      " n          x0          x1              x        tolerance\n",
      "──────────────────────────────────────────────────────────────────\n",
      "  01   3.0           4.0           3.551212931   0.448787068  \n",
      "  02   3.0           3.551212931   3.368301561   0.182911369  \n",
      "  03   3.0           3.368301561   3.314887571   0.053413989  \n",
      "  04   3.0           3.314887571   3.301127813   0.013759758  \n",
      "  05   3.0           3.301127813   3.297706884   0.003420928  \n",
      "  06   3.0           3.297706884   3.296864057   0.000842827  \n",
      "  07   3.0           3.296864057   3.296656873   0.000207184  \n",
      "  08   3.0           3.296656873   3.296605971   5.090184373  \n",
      "  09   3.0           3.296605971   3.296593467   1.250407243  \n",
      "  10   3.0           3.296593467   3.296590395   3.071531131  \n",
      "──────────────────────────────────────────────────────────────────\n",
      "\n",
      "Done! The procedure was successful.\n"
     ]
    }
   ],
   "source": [
    "false_position(function, x0, x1, TOL, max_iter)"
   ]
  }
 ],
 "metadata": {
  "kernelspec": {
   "display_name": "Python 3 (ipykernel)",
   "language": "python",
   "name": "python3"
  },
  "language_info": {
   "codemirror_mode": {
    "name": "ipython",
    "version": 3
   },
   "file_extension": ".py",
   "mimetype": "text/x-python",
   "name": "python",
   "nbconvert_exporter": "python",
   "pygments_lexer": "ipython3",
   "version": "3.9.13"
  }
 },
 "nbformat": 4,
 "nbformat_minor": 5
}
